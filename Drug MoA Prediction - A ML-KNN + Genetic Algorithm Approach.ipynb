{
 "cells": [
  {
   "cell_type": "code",
   "execution_count": 1,
   "metadata": {},
   "outputs": [],
   "source": [
    "import os\n",
    "import numpy as np\n",
    "import pandas as pd\n",
    "from ml_knn import GeneticAlgorithm, EnsembleClassifier, oof_probas"
   ]
  },
  {
   "cell_type": "code",
   "execution_count": 2,
   "metadata": {},
   "outputs": [
    {
     "data": {
      "text/plain": [
       "(206, 875)"
      ]
     },
     "execution_count": 2,
     "metadata": {},
     "output_type": "execute_result"
    }
   ],
   "source": [
    "# Generated using feature_subspace.py\n",
    "fnames = os.listdir('feature_subspaces')\n",
    "population = np.array([np.load(os.path.join('feature_subspaces', f)) for f in fnames])\n",
    "population.shape\n",
    "\n",
    "# model = GeneticAlgorithm(population)\n",
    "# model.fit(X, y, generations=20)\n",
    "# np.save('final_population.npy', model.population)"
   ]
  },
  {
   "cell_type": "code",
   "execution_count": 3,
   "metadata": {},
   "outputs": [
    {
     "data": {
      "text/plain": [
       "((23814, 875), (23814, 207))"
      ]
     },
     "execution_count": 3,
     "metadata": {},
     "output_type": "execute_result"
    }
   ],
   "source": [
    "X = pd.read_csv('kaggle_data/train_features.csv', index_col=0)\n",
    "y = pd.read_csv('kaggle_data/train_targets_scored.csv')\n",
    "X.shape, y.shape"
   ]
  },
  {
   "cell_type": "code",
   "execution_count": 4,
   "metadata": {},
   "outputs": [],
   "source": [
    "X = X.replace({\n",
    "    'cp_type': {'trt_cp': -1.0, 'ctl_vehicle': 1.0},\n",
    "    'cp_time': {24: -1.0, 48: 0.0, 72: 1.0},\n",
    "    'cp_dose': {'D1': -1.0, 'D2': 1.0}\n",
    "})"
   ]
  },
  {
   "cell_type": "code",
   "execution_count": 5,
   "metadata": {},
   "outputs": [
    {
     "data": {
      "text/plain": [
       "array([[ True,  True,  True, ..., False,  True, False],\n",
       "       [ True, False, False, ..., False,  True, False],\n",
       "       [ True,  True,  True, ..., False,  True, False],\n",
       "       ...,\n",
       "       [False, False,  True, ...,  True,  True,  True],\n",
       "       [ True,  True, False, ...,  True, False,  True],\n",
       "       [ True, False,  True, ..., False,  True, False]])"
      ]
     },
     "execution_count": 5,
     "metadata": {},
     "output_type": "execute_result"
    }
   ],
   "source": [
    "feature_subspaces = np.load('npy_files/final_population.npy')\n",
    "feature_subspaces"
   ]
  },
  {
   "cell_type": "code",
   "execution_count": 7,
   "metadata": {},
   "outputs": [
    {
     "name": "stdout",
     "output_type": "stream",
     "text": [
      "Fitting 30 models...\n"
     ]
    },
    {
     "data": {
      "application/vnd.jupyter.widget-view+json": {
       "model_id": "3113763e259a4491aef2292e3dd1004a",
       "version_major": 2,
       "version_minor": 0
      },
      "text/plain": [
       "HBox(children=(HTML(value=''), FloatProgress(value=0.0, max=30.0), HTML(value='')))"
      ]
     },
     "metadata": {},
     "output_type": "display_data"
    },
    {
     "name": "stdout",
     "output_type": "stream",
     "text": [
      "\n",
      "Running ensemble weight scoring optimization...\n",
      "Threshold achieved in 237 generations.\n",
      "\n",
      "Final log loss: 0.018899279947014\n"
     ]
    }
   ],
   "source": [
    "ensemble_clf = EnsembleClassifier(feature_subspaces, n_ensemble=30)\n",
    "ensemble_clf.fit(X, y, solution_per_population=8, eps=1e-5)"
   ]
  }
 ],
 "metadata": {
  "kernelspec": {
   "display_name": "Python 3",
   "language": "python",
   "name": "python3"
  },
  "language_info": {
   "codemirror_mode": {
    "name": "ipython",
    "version": 3
   },
   "file_extension": ".py",
   "mimetype": "text/x-python",
   "name": "python",
   "nbconvert_exporter": "python",
   "pygments_lexer": "ipython3",
   "version": "3.8.6"
  }
 },
 "nbformat": 4,
 "nbformat_minor": 4
}
